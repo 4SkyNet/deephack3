{
 "cells": [
  {
   "cell_type": "code",
   "execution_count": 1,
   "metadata": {
    "collapsed": false,
    "scrolled": false
   },
   "outputs": [
    {
     "name": "stderr",
     "output_type": "stream",
     "text": [
      "[2017-02-12 10:47:40,835] Environment Name: Centipede-v0\n",
      "[2017-02-12 10:47:40,837] Making new env: Centipede-v0\n",
      "[2017-02-12 10:47:43,890] Making new env: Centipede-v0\n",
      "[2017-02-12 10:47:43,966] Called reset on <Unvectorize<VectorizeFilter[<class 'agents.DiagnosticsInfoI'>]<AtariRescale42x42<Vectorize<AtariEnv instance>>>>> before configuring. Configuring automatically with default arguments\n",
      "[2017-02-12 10:47:43,985] Resetting environment\n",
      "[2017-02-12 10:47:49,626] Episode terminating: episode_reward=5002.0 episode_length=1051\n",
      "[2017-02-12 10:47:49,660] Resetting environment\n"
     ]
    },
    {
     "name": "stdout",
     "output_type": "stream",
     "text": [
      "Centipede-v0 UN, score:  5002.0\n"
     ]
    },
    {
     "name": "stderr",
     "output_type": "stream",
     "text": [
      "[2017-02-12 10:47:55,745] Episode terminating: episode_reward=9425.0 episode_length=1331\n",
      "[2017-02-12 10:47:55,773] Resetting environment\n"
     ]
    },
    {
     "name": "stdout",
     "output_type": "stream",
     "text": [
      "Centipede-v0 UN, score:  9425.0\n"
     ]
    },
    {
     "name": "stderr",
     "output_type": "stream",
     "text": [
      "[2017-02-12 10:48:01,218] Episode terminating: episode_reward=8895.0 episode_length=1172\n",
      "[2017-02-12 10:48:01,244] Resetting environment\n"
     ]
    },
    {
     "name": "stdout",
     "output_type": "stream",
     "text": [
      "Centipede-v0 UN, score:  8895.0\n"
     ]
    },
    {
     "name": "stderr",
     "output_type": "stream",
     "text": [
      "[2017-02-12 10:48:06,407] Episode terminating: episode_reward=6871.0 episode_length=1127\n",
      "[2017-02-12 10:48:06,438] Resetting environment\n"
     ]
    },
    {
     "name": "stdout",
     "output_type": "stream",
     "text": [
      "Centipede-v0 UN, score:  6871.0\n"
     ]
    },
    {
     "name": "stderr",
     "output_type": "stream",
     "text": [
      "[2017-02-12 10:48:10,091] Episode terminating: episode_reward=5046.0 episode_length=771\n",
      "[2017-02-12 10:48:10,105] Making new env: Centipede-v0\n"
     ]
    },
    {
     "name": "stdout",
     "output_type": "stream",
     "text": [
      "Centipede-v0 UN, score:  5046.0\n",
      "\u001b[32m[0212 10:48:10 @common.py:101]\u001b[0m conv0 input: [None, 84, 84, 12]\n",
      "\u001b[32m[0212 10:48:10 @common.py:109]\u001b[0m conv0 output: [None, 84, 84, 32]\n",
      "\u001b[32m[0212 10:48:10 @common.py:101]\u001b[0m pool0 input: [None, 84, 84, 32]\n",
      "\u001b[32m[0212 10:48:10 @common.py:109]\u001b[0m pool0 output: [None, 42, 42, 32]\n",
      "\u001b[32m[0212 10:48:10 @common.py:101]\u001b[0m conv1 input: [None, 42, 42, 32]\n",
      "\u001b[32m[0212 10:48:10 @common.py:109]\u001b[0m conv1 output: [None, 42, 42, 32]\n",
      "\u001b[32m[0212 10:48:10 @common.py:101]\u001b[0m pool1 input: [None, 42, 42, 32]\n",
      "\u001b[32m[0212 10:48:10 @common.py:109]\u001b[0m pool1 output: [None, 21, 21, 32]\n",
      "\u001b[32m[0212 10:48:10 @common.py:101]\u001b[0m conv2 input: [None, 21, 21, 32]\n",
      "\u001b[32m[0212 10:48:10 @common.py:109]\u001b[0m conv2 output: [None, 21, 21, 64]\n",
      "\u001b[32m[0212 10:48:10 @common.py:101]\u001b[0m pool2 input: [None, 21, 21, 64]\n",
      "\u001b[32m[0212 10:48:10 @common.py:109]\u001b[0m pool2 output: [None, 10, 10, 64]\n",
      "\u001b[32m[0212 10:48:10 @common.py:101]\u001b[0m conv3 input: [None, 10, 10, 64]\n",
      "\u001b[32m[0212 10:48:10 @common.py:109]\u001b[0m conv3 output: [None, 10, 10, 64]\n",
      "\u001b[32m[0212 10:48:10 @common.py:101]\u001b[0m fc0 input: [None, 10, 10, 64]\n",
      "\u001b[32m[0212 10:48:10 @common.py:109]\u001b[0m fc0 output: [None, 512]\n",
      "\u001b[32m[0212 10:48:10 @common.py:101]\u001b[0m fc-pi input: [None, 512]\n",
      "\u001b[32m[0212 10:48:10 @common.py:109]\u001b[0m fc-pi output: [None, 18]\n",
      "\u001b[32m[0212 10:48:10 @sessinit.py:75]\u001b[0m Restoring checkpoint from checkpoints/tensorpack/Centipede-v0/Centipede-v0 ...\n",
      "\u001b[32m[0212 10:48:10 @sessinit.py:137]\u001b[0m \u001b[5m\u001b[31mWRN\u001b[0m Variable beta1_power:0 in checkpoint not found in the graph!\n",
      "\u001b[32m[0212 10:48:10 @sessinit.py:137]\u001b[0m \u001b[5m\u001b[31mWRN\u001b[0m Variable beta2_power:0 in checkpoint not found in the graph!\n",
      "\u001b[32m[0212 10:48:10 @sessinit.py:137]\u001b[0m \u001b[5m\u001b[31mWRN\u001b[0m Variable entropy_beta:0 in checkpoint not found in the graph!\n",
      "\u001b[32m[0212 10:48:10 @sessinit.py:137]\u001b[0m \u001b[5m\u001b[31mWRN\u001b[0m Variable explore_factor:0 in checkpoint not found in the graph!\n",
      "\u001b[32m[0212 10:48:10 @sessinit.py:137]\u001b[0m \u001b[5m\u001b[31mWRN\u001b[0m Variable fc-v/W:0 in checkpoint not found in the graph!\n",
      "\u001b[32m[0212 10:48:10 @sessinit.py:137]\u001b[0m \u001b[5m\u001b[31mWRN\u001b[0m Variable fc-v/b:0 in checkpoint not found in the graph!\n",
      "\u001b[32m[0212 10:48:10 @sessinit.py:137]\u001b[0m \u001b[5m\u001b[31mWRN\u001b[0m Variable global_step:0 in checkpoint not found in the graph!\n",
      "\u001b[32m[0212 10:48:10 @sessinit.py:137]\u001b[0m \u001b[5m\u001b[31mWRN\u001b[0m Variable learning_rate:0 in checkpoint not found in the graph!\n",
      "set seed 12\n",
      "Centipede-v0 TP, score:  13825.0\n",
      "Centipede-v0 TP, score:  5723.0\n",
      "Centipede-v0 TP, score:  17012.0\n",
      "Centipede-v0 TP, score:  6900.0\n"
     ]
    },
    {
     "name": "stderr",
     "output_type": "stream",
     "text": [
      "[2017-02-12 10:48:48,499] Making new env: Centipede-v0\n"
     ]
    },
    {
     "name": "stdout",
     "output_type": "stream",
     "text": [
      "Centipede-v0 TP, score:  1569.0\n",
      "Centipede-v0 RD, score:  2300.0\n",
      "Centipede-v0 RD, score:  2878.0\n",
      "Centipede-v0 RD, score:  775.0\n",
      "Centipede-v0 RD, score:  2618.0\n"
     ]
    },
    {
     "name": "stderr",
     "output_type": "stream",
     "text": [
      "[2017-02-12 10:48:51,612] Environment Name: Centipede-v0\n",
      "[2017-02-12 10:48:51,613] Making new env: Centipede-v0\n",
      "[2017-02-12 10:48:51,681] Making new env: Centipede-v0\n",
      "[2017-02-12 10:48:51,767] DEPRECATION WARNING: env.spec.timestep_limit has been deprecated. Replace your call to `env.spec.timestep_limit` with `env.spec.tags.get('wrapper_config.TimeLimit.max_episode_steps')`. This change was made 12/28/2016 and is included in version 0.7.0\n",
      "[2017-02-12 10:48:51,802] Starting new video recorder writing to /home/mount/neuro-t01-ssd/home/libfun_s/kaggle/gym/deephack3/Centipede-v0output_12/tensorpack/openaigym.video.0.25168.video000000.mp4\n"
     ]
    },
    {
     "name": "stdout",
     "output_type": "stream",
     "text": [
      "Centipede-v0 RD, score:  2422.0\n",
      "\u001b[32m[0212 10:48:52 @sessinit.py:75]\u001b[0m Restoring checkpoint from checkpoints/tensorpack/Centipede-v0/Centipede-v0 ...\n",
      "\u001b[32m[0212 10:48:52 @sessinit.py:137]\u001b[0m \u001b[5m\u001b[31mWRN\u001b[0m Variable beta1_power:0 in checkpoint not found in the graph!\n",
      "\u001b[32m[0212 10:48:52 @sessinit.py:137]\u001b[0m \u001b[5m\u001b[31mWRN\u001b[0m Variable beta2_power:0 in checkpoint not found in the graph!\n",
      "\u001b[32m[0212 10:48:52 @sessinit.py:137]\u001b[0m \u001b[5m\u001b[31mWRN\u001b[0m Variable entropy_beta:0 in checkpoint not found in the graph!\n",
      "\u001b[32m[0212 10:48:52 @sessinit.py:137]\u001b[0m \u001b[5m\u001b[31mWRN\u001b[0m Variable explore_factor:0 in checkpoint not found in the graph!\n",
      "\u001b[32m[0212 10:48:52 @sessinit.py:137]\u001b[0m \u001b[5m\u001b[31mWRN\u001b[0m Variable fc-v/W:0 in checkpoint not found in the graph!\n",
      "\u001b[32m[0212 10:48:52 @sessinit.py:137]\u001b[0m \u001b[5m\u001b[31mWRN\u001b[0m Variable fc-v/b:0 in checkpoint not found in the graph!\n",
      "\u001b[32m[0212 10:48:52 @sessinit.py:137]\u001b[0m \u001b[5m\u001b[31mWRN\u001b[0m Variable global_step:0 in checkpoint not found in the graph!\n",
      "\u001b[32m[0212 10:48:52 @sessinit.py:137]\u001b[0m \u001b[5m\u001b[31mWRN\u001b[0m Variable learning_rate:0 in checkpoint not found in the graph!\n",
      "set seed 12\n"
     ]
    },
    {
     "name": "stderr",
     "output_type": "stream",
     "text": [
      "[2017-02-12 10:49:05,797] Finished writing results. You can upload them to the scoreboard via gym.upload('/home/mount/neuro-t01-ssd/home/libfun_s/kaggle/gym/deephack3/Centipede-v0output_12/tensorpack')\n"
     ]
    },
    {
     "name": "stdout",
     "output_type": "stream",
     "text": [
      "Centipede-v0 TP, score:  12468.0\n"
     ]
    }
   ],
   "source": [
    "import player\n",
    "import agents\n",
    "\n",
    "env = 'Centipede-v0'\n",
    "seed = 12\n",
    "\n",
    "p = player.Player(env, env+'output_'+str(seed)+'/', seed=seed)\n",
    "p.choose(num_episodes_eval=5)\n",
    "\n",
    "if p.best == 'tensorpack':\n",
    "    del p\n",
    "    \n",
    "    agent = agents.TPAgent(env, env+'output_'+str(seed)+'/'+'tensorpack/',\n",
    "                   'checkpoints'+'/tensorpack/'+env+'/'+env, 1)\n",
    "    \n",
    "    agent.play(1, env, record=True, seed=seed, tst=True)\n",
    "    \n",
    "    with open(agent.save + 'rw.txt', 'w') as f:\n",
    "        f.write(str(agent.player.player.player.rwd_counter._values))\n",
    "    agent.player.player.player.gymenv.close()\n",
    "    \n",
    "elif p.best == 'universe':\n",
    "    p.agents[p.best].play(1, env, record=True, seed=seed, tst=True)\n",
    "    \n",
    "    with open('result_' + env + '/rw.txt', 'w') as f:\n",
    "        f.write(str(p.agents[p.best].rewards))\n",
    "    p.agents[p.best].env.close()"
   ]
  },
  {
   "cell_type": "code",
   "execution_count": null,
   "metadata": {
    "collapsed": true
   },
   "outputs": [],
   "source": []
  },
  {
   "cell_type": "code",
   "execution_count": null,
   "metadata": {
    "collapsed": true
   },
   "outputs": [],
   "source": []
  },
  {
   "cell_type": "code",
   "execution_count": null,
   "metadata": {
    "collapsed": true
   },
   "outputs": [],
   "source": []
  },
  {
   "cell_type": "code",
   "execution_count": 1,
   "metadata": {
    "collapsed": false,
    "deletable": true,
    "editable": true
   },
   "outputs": [],
   "source": [
    "import player\n",
    "import agents"
   ]
  },
  {
   "cell_type": "code",
   "execution_count": 2,
   "metadata": {
    "collapsed": false,
    "deletable": true,
    "editable": true,
    "scrolled": false
   },
   "outputs": [
    {
     "name": "stderr",
     "output_type": "stream",
     "text": [
      "[2017-02-12 09:42:47,175] Environment Name: Skiing-v0\n",
      "[2017-02-12 09:42:47,177] Making new env: Skiing-v0\n"
     ]
    }
   ],
   "source": [
    "p = player.Player('Skiing-v0', 'output15/', seed=12)"
   ]
  },
  {
   "cell_type": "code",
   "execution_count": 3,
   "metadata": {
    "collapsed": false,
    "deletable": true,
    "editable": true
   },
   "outputs": [
    {
     "data": {
      "text/plain": [
       "{'random': <agents.RandomAgent at 0x7f0a39e9c3c8>,\n",
       " 'tensorpack': <agents.TPAgent at 0x7f09d0506f60>,\n",
       " 'universe': <agents.A3C at 0x7f09d0506f28>}"
      ]
     },
     "execution_count": 3,
     "metadata": {},
     "output_type": "execute_result"
    }
   ],
   "source": [
    "p.agents"
   ]
  },
  {
   "cell_type": "code",
   "execution_count": 4,
   "metadata": {
    "collapsed": false,
    "deletable": true,
    "editable": true,
    "scrolled": true
   },
   "outputs": [
    {
     "name": "stderr",
     "output_type": "stream",
     "text": [
      "[2017-02-12 09:29:25,316] Making new env: Skiing-v0\n"
     ]
    },
    {
     "name": "stdout",
     "output_type": "stream",
     "text": [
      "Skiing-v0 RD, score:  -15868.0\n",
      "Skiing-v0 RD, score:  -18187.0\n"
     ]
    },
    {
     "name": "stderr",
     "output_type": "stream",
     "text": [
      "[2017-02-12 09:29:30,328] Making new env: Skiing-v0\n",
      "[2017-02-12 09:29:30,421] Called reset on <Unvectorize<VectorizeFilter[<class 'agents.DiagnosticsInfoI'>]<AtariRescale42x42<Vectorize<AtariEnv instance>>>>> before configuring. Configuring automatically with default arguments\n",
      "[2017-02-12 09:29:30,450] Resetting environment\n",
      "[2017-02-12 09:29:58,943] Episode terminating: episode_reward=-30000.0 episode_length=6020\n",
      "[2017-02-12 09:29:58,957] Resetting environment\n"
     ]
    },
    {
     "name": "stdout",
     "output_type": "stream",
     "text": [
      "Skiing-v0 UN, score:  -30000.0\n"
     ]
    },
    {
     "name": "stderr",
     "output_type": "stream",
     "text": [
      "[2017-02-12 09:30:26,659] Episode terminating: episode_reward=-30000.0 episode_length=6010\n",
      "[2017-02-12 09:30:26,671] Making new env: Skiing-v0\n"
     ]
    },
    {
     "name": "stdout",
     "output_type": "stream",
     "text": [
      "Skiing-v0 UN, score:  -30000.0\n",
      "\u001b[32m[0212 09:30:26 @common.py:101]\u001b[0m conv0 input: [None, 84, 84, 12]\n",
      "\u001b[32m[0212 09:30:26 @common.py:109]\u001b[0m conv0 output: [None, 84, 84, 32]\n",
      "\u001b[32m[0212 09:30:26 @common.py:101]\u001b[0m pool0 input: [None, 84, 84, 32]\n",
      "\u001b[32m[0212 09:30:26 @common.py:109]\u001b[0m pool0 output: [None, 42, 42, 32]\n",
      "\u001b[32m[0212 09:30:26 @common.py:101]\u001b[0m conv1 input: [None, 42, 42, 32]\n",
      "\u001b[32m[0212 09:30:26 @common.py:109]\u001b[0m conv1 output: [None, 42, 42, 32]\n",
      "\u001b[32m[0212 09:30:26 @common.py:101]\u001b[0m pool1 input: [None, 42, 42, 32]\n",
      "\u001b[32m[0212 09:30:26 @common.py:109]\u001b[0m pool1 output: [None, 21, 21, 32]\n",
      "\u001b[32m[0212 09:30:26 @common.py:101]\u001b[0m conv2 input: [None, 21, 21, 32]\n",
      "\u001b[32m[0212 09:30:26 @common.py:109]\u001b[0m conv2 output: [None, 21, 21, 64]\n",
      "\u001b[32m[0212 09:30:26 @common.py:101]\u001b[0m pool2 input: [None, 21, 21, 64]\n",
      "\u001b[32m[0212 09:30:26 @common.py:109]\u001b[0m pool2 output: [None, 10, 10, 64]\n",
      "\u001b[32m[0212 09:30:26 @common.py:101]\u001b[0m conv3 input: [None, 10, 10, 64]\n",
      "\u001b[32m[0212 09:30:26 @common.py:109]\u001b[0m conv3 output: [None, 10, 10, 64]\n",
      "\u001b[32m[0212 09:30:26 @common.py:101]\u001b[0m fc0 input: [None, 10, 10, 64]\n",
      "\u001b[32m[0212 09:30:26 @common.py:109]\u001b[0m fc0 output: [None, 512]\n",
      "\u001b[32m[0212 09:30:26 @common.py:101]\u001b[0m fc-pi input: [None, 512]\n",
      "\u001b[32m[0212 09:30:27 @common.py:109]\u001b[0m fc-pi output: [None, 3]\n",
      "\u001b[32m[0212 09:30:27 @sessinit.py:75]\u001b[0m Restoring checkpoint from checkpoints/tensorpack/Skiing-v0/Skiing-v0 ...\n",
      "\u001b[32m[0212 09:30:27 @sessinit.py:137]\u001b[0m \u001b[5m\u001b[31mWRN\u001b[0m Variable beta1_power:0 in checkpoint not found in the graph!\n",
      "\u001b[32m[0212 09:30:27 @sessinit.py:137]\u001b[0m \u001b[5m\u001b[31mWRN\u001b[0m Variable beta2_power:0 in checkpoint not found in the graph!\n",
      "\u001b[32m[0212 09:30:27 @sessinit.py:137]\u001b[0m \u001b[5m\u001b[31mWRN\u001b[0m Variable entropy_beta:0 in checkpoint not found in the graph!\n",
      "\u001b[32m[0212 09:30:27 @sessinit.py:137]\u001b[0m \u001b[5m\u001b[31mWRN\u001b[0m Variable explore_factor:0 in checkpoint not found in the graph!\n",
      "\u001b[32m[0212 09:30:27 @sessinit.py:137]\u001b[0m \u001b[5m\u001b[31mWRN\u001b[0m Variable fc-v/W:0 in checkpoint not found in the graph!\n",
      "\u001b[32m[0212 09:30:27 @sessinit.py:137]\u001b[0m \u001b[5m\u001b[31mWRN\u001b[0m Variable fc-v/b:0 in checkpoint not found in the graph!\n",
      "\u001b[32m[0212 09:30:27 @sessinit.py:137]\u001b[0m \u001b[5m\u001b[31mWRN\u001b[0m Variable global_step:0 in checkpoint not found in the graph!\n",
      "\u001b[32m[0212 09:30:27 @sessinit.py:137]\u001b[0m \u001b[5m\u001b[31mWRN\u001b[0m Variable learning_rate:0 in checkpoint not found in the graph!\n",
      "Skiing-v0 TP, score:  -3491.0\n"
     ]
    },
    {
     "name": "stderr",
     "output_type": "stream",
     "text": [
      "[2017-02-12 09:30:32,856] Making new env: Skiing-v0\n",
      "[2017-02-12 09:30:32,950] DEPRECATION WARNING: env.spec.timestep_limit has been deprecated. Replace your call to `env.spec.timestep_limit` with `env.spec.tags.get('wrapper_config.TimeLimit.max_episode_steps')`. This change was made 12/28/2016 and is included in version 0.7.0\n",
      "[2017-02-12 09:30:32,969] Starting new video recorder writing to /home/mount/neuro-t01-ssd/home/libfun_s/kaggle/gym/deephack3/output11/tensorpack/openaigym.video.0.20048.video000000.mp4\n"
     ]
    },
    {
     "name": "stdout",
     "output_type": "stream",
     "text": [
      "Skiing-v0 TP, score:  -3463.0\n",
      "Skiing-v0 TP, score:  -3520.0\n"
     ]
    }
   ],
   "source": [
    "p.choose_and_record(num_episodes_eval=2, num_episodes_run=1)"
   ]
  },
  {
   "cell_type": "code",
   "execution_count": 4,
   "metadata": {
    "collapsed": true,
    "deletable": true,
    "editable": true
   },
   "outputs": [],
   "source": [
    "import gym"
   ]
  },
  {
   "cell_type": "code",
   "execution_count": 5,
   "metadata": {
    "collapsed": false
   },
   "outputs": [
    {
     "name": "stderr",
     "output_type": "stream",
     "text": [
      "[2017-02-12 09:42:49,438] Making new env: Skiing-v0\n",
      "[2017-02-12 09:42:49,537] DEPRECATION WARNING: env.spec.timestep_limit has been deprecated. Replace your call to `env.spec.timestep_limit` with `env.spec.tags.get('wrapper_config.TimeLimit.max_episode_steps')`. This change was made 12/28/2016 and is included in version 0.7.0\n",
      "[2017-02-12 09:42:49,569] Starting new video recorder writing to /home/mount/neuro-t01-ssd/home/libfun_s/kaggle/gym/deephack3/output15/tensorpack/openaigym.video.0.4704.video000000.mp4\n"
     ]
    },
    {
     "name": "stdout",
     "output_type": "stream",
     "text": [
      "\u001b[32m[0212 09:42:49 @common.py:101]\u001b[0m conv0 input: [None, 84, 84, 12]\n",
      "\u001b[32m[0212 09:42:49 @common.py:109]\u001b[0m conv0 output: [None, 84, 84, 32]\n",
      "\u001b[32m[0212 09:42:49 @common.py:101]\u001b[0m pool0 input: [None, 84, 84, 32]\n",
      "\u001b[32m[0212 09:42:49 @common.py:109]\u001b[0m pool0 output: [None, 42, 42, 32]\n",
      "\u001b[32m[0212 09:42:49 @common.py:101]\u001b[0m conv1 input: [None, 42, 42, 32]\n",
      "\u001b[32m[0212 09:42:49 @common.py:109]\u001b[0m conv1 output: [None, 42, 42, 32]\n",
      "\u001b[32m[0212 09:42:49 @common.py:101]\u001b[0m pool1 input: [None, 42, 42, 32]\n",
      "\u001b[32m[0212 09:42:49 @common.py:109]\u001b[0m pool1 output: [None, 21, 21, 32]\n",
      "\u001b[32m[0212 09:42:49 @common.py:101]\u001b[0m conv2 input: [None, 21, 21, 32]\n",
      "\u001b[32m[0212 09:42:49 @common.py:109]\u001b[0m conv2 output: [None, 21, 21, 64]\n",
      "\u001b[32m[0212 09:42:49 @common.py:101]\u001b[0m pool2 input: [None, 21, 21, 64]\n",
      "\u001b[32m[0212 09:42:49 @common.py:109]\u001b[0m pool2 output: [None, 10, 10, 64]\n",
      "\u001b[32m[0212 09:42:49 @common.py:101]\u001b[0m conv3 input: [None, 10, 10, 64]\n",
      "\u001b[32m[0212 09:42:49 @common.py:109]\u001b[0m conv3 output: [None, 10, 10, 64]\n",
      "\u001b[32m[0212 09:42:49 @common.py:101]\u001b[0m fc0 input: [None, 10, 10, 64]\n",
      "\u001b[32m[0212 09:42:49 @common.py:109]\u001b[0m fc0 output: [None, 512]\n",
      "\u001b[32m[0212 09:42:49 @common.py:101]\u001b[0m fc-pi input: [None, 512]\n",
      "\u001b[32m[0212 09:42:49 @common.py:109]\u001b[0m fc-pi output: [None, 3]\n",
      "\u001b[32m[0212 09:42:50 @sessinit.py:75]\u001b[0m Restoring checkpoint from checkpoints/tensorpack/Skiing-v0/Skiing-v0 ...\n",
      "\u001b[32m[0212 09:42:50 @sessinit.py:137]\u001b[0m \u001b[5m\u001b[31mWRN\u001b[0m Variable beta1_power:0 in checkpoint not found in the graph!\n",
      "\u001b[32m[0212 09:42:50 @sessinit.py:137]\u001b[0m \u001b[5m\u001b[31mWRN\u001b[0m Variable beta2_power:0 in checkpoint not found in the graph!\n",
      "\u001b[32m[0212 09:42:50 @sessinit.py:137]\u001b[0m \u001b[5m\u001b[31mWRN\u001b[0m Variable entropy_beta:0 in checkpoint not found in the graph!\n",
      "\u001b[32m[0212 09:42:50 @sessinit.py:137]\u001b[0m \u001b[5m\u001b[31mWRN\u001b[0m Variable explore_factor:0 in checkpoint not found in the graph!\n",
      "\u001b[32m[0212 09:42:50 @sessinit.py:137]\u001b[0m \u001b[5m\u001b[31mWRN\u001b[0m Variable fc-v/W:0 in checkpoint not found in the graph!\n",
      "\u001b[32m[0212 09:42:50 @sessinit.py:137]\u001b[0m \u001b[5m\u001b[31mWRN\u001b[0m Variable fc-v/b:0 in checkpoint not found in the graph!\n",
      "\u001b[32m[0212 09:42:50 @sessinit.py:137]\u001b[0m \u001b[5m\u001b[31mWRN\u001b[0m Variable global_step:0 in checkpoint not found in the graph!\n",
      "\u001b[32m[0212 09:42:50 @sessinit.py:137]\u001b[0m \u001b[5m\u001b[31mWRN\u001b[0m Variable learning_rate:0 in checkpoint not found in the graph!\n",
      "Skiing-v0 TP, score:  -3520.0\n"
     ]
    },
    {
     "data": {
      "text/plain": [
       "-3520.0"
      ]
     },
     "execution_count": 5,
     "metadata": {},
     "output_type": "execute_result"
    }
   ],
   "source": [
    "p.agents['tensorpack'].play(1, 'Skiing-v0', record=True, seed=11, tst=True)"
   ]
  },
  {
   "cell_type": "code",
   "execution_count": 6,
   "metadata": {
    "collapsed": false,
    "scrolled": true
   },
   "outputs": [],
   "source": [
    "with open(p.agents['tensorpack'].save + 'rw.txt', 'w') as f:\n",
    "    f.write(str(p.agents['tensorpack'].player.player.player.rwd_counter._values))"
   ]
  },
  {
   "cell_type": "code",
   "execution_count": 7,
   "metadata": {
    "collapsed": false,
    "deletable": true,
    "editable": true
   },
   "outputs": [
    {
     "name": "stderr",
     "output_type": "stream",
     "text": [
      "[2017-02-12 09:42:58,628] Finished writing results. You can upload them to the scoreboard via gym.upload('/home/mount/neuro-t01-ssd/home/libfun_s/kaggle/gym/deephack3/output15/tensorpack')\n"
     ]
    }
   ],
   "source": [
    "p.agents['tensorpack'].player.player.player.gymenv.close()"
   ]
  },
  {
   "cell_type": "code",
   "execution_count": 13,
   "metadata": {
    "collapsed": false,
    "deletable": true,
    "editable": true
   },
   "outputs": [
    {
     "name": "stderr",
     "output_type": "stream",
     "text": [
      "[2017-02-11 15:56:51,274] [Skiing-v0] Uploading 100 episodes of training data\n",
      "[2017-02-11 15:56:51,280] Starting new HTTPS connection (1): gym-api.openai.com\n",
      "[2017-02-11 15:56:51,778] Starting new HTTPS connection (1): s3-us-west-2.amazonaws.com\n",
      "[2017-02-11 15:56:52,160] [Skiing-v0] Uploading videos of 5 training episodes (594188 bytes)\n",
      "[2017-02-11 15:56:52,946] [Skiing-v0] Creating evaluation object from /home/ubuntu/deephack3/output3/tensorpack/ with learning curve and training video\n",
      "[2017-02-11 15:56:53,241] \n",
      "****************************************************\n",
      "You successfully uploaded your evaluation on Skiing-v0 to\n",
      "OpenAI Gym! You can find it at:\n",
      "\n",
      "    https://gym.openai.com/evaluations/eval_1ezBtrPT2WCCOSGZt1cwA\n",
      "\n",
      "****************************************************\n"
     ]
    }
   ],
   "source": [
    "gym.upload('/home/ubuntu/deephack3/output3/tensorpack/', api_key='sk_jMipOrkMRWKu5y6DpDvBFA')"
   ]
  },
  {
   "cell_type": "code",
   "execution_count": null,
   "metadata": {
    "collapsed": true,
    "deletable": true,
    "editable": true
   },
   "outputs": [],
   "source": []
  }
 ],
 "metadata": {
  "kernelspec": {
   "display_name": "Python 3",
   "language": "python",
   "name": "python3"
  },
  "language_info": {
   "codemirror_mode": {
    "name": "ipython",
    "version": 3
   },
   "file_extension": ".py",
   "mimetype": "text/x-python",
   "name": "python",
   "nbconvert_exporter": "python",
   "pygments_lexer": "ipython3",
   "version": "3.4.3"
  }
 },
 "nbformat": 4,
 "nbformat_minor": 2
}
